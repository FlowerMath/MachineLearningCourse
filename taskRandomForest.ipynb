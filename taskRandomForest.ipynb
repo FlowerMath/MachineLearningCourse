{
 "cells": [
  {
   "cell_type": "code",
   "execution_count": 51,
   "metadata": {},
   "outputs": [],
   "source": [
    "from sklearn.datasets import load_digits\n",
    "import numpy as np\n",
    "import pandas as pd\n",
    "from sklearn import ensemble, cross_validation, learning_curve, metrics, tree"
   ]
  },
  {
   "cell_type": "code",
   "execution_count": 52,
   "metadata": {},
   "outputs": [],
   "source": [
    "digits = load_digits()"
   ]
  },
  {
   "cell_type": "code",
   "execution_count": 53,
   "metadata": {},
   "outputs": [],
   "source": [
    "X = digits.data\n",
    "y = digits.target"
   ]
  },
  {
   "cell_type": "code",
   "execution_count": 54,
   "metadata": {},
   "outputs": [],
   "source": [
    "k = 10"
   ]
  },
  {
   "cell_type": "code",
   "execution_count": 55,
   "metadata": {},
   "outputs": [],
   "source": [
    "rf_classifier = tree.DecisionTreeClassifier(random_state = 1)"
   ]
  },
  {
   "cell_type": "code",
   "execution_count": 56,
   "metadata": {},
   "outputs": [],
   "source": [
    "cv_scores = cross_validation.cross_val_score(rf_classifier, X, y, cv=k)"
   ]
  },
  {
   "cell_type": "code",
   "execution_count": 57,
   "metadata": {},
   "outputs": [],
   "source": [
    "cv_mean = [cv_scores.mean()]"
   ]
  },
  {
   "cell_type": "code",
   "execution_count": 58,
   "metadata": {},
   "outputs": [],
   "source": [
    "def write_answer(answer,name):\n",
    "    with open(name, \"w\") as fout:\n",
    "        fout.write(\" \".join([str(num) for num in answer]))"
   ]
  },
  {
   "cell_type": "code",
   "execution_count": 59,
   "metadata": {},
   "outputs": [],
   "source": [
    "write_answer(cv_mean, 'RandomForest_1.txt')"
   ]
  },
  {
   "cell_type": "code",
   "execution_count": 60,
   "metadata": {},
   "outputs": [],
   "source": [
    "bag_cl_rf = ensemble.BaggingClassifier(rf_classifier, n_estimators=100)\n",
    "cv_scores_bag = cross_validation.cross_val_score(bag_cl_rf, X, y, cv=k)"
   ]
  },
  {
   "cell_type": "code",
   "execution_count": 61,
   "metadata": {},
   "outputs": [],
   "source": [
    "cv_scores_bag_mean = [cv_scores_bag.mean()]\n",
    "write_answer(cv_scores_bag_mean, 'RandomForest_2.txt')"
   ]
  },
  {
   "cell_type": "code",
   "execution_count": 62,
   "metadata": {},
   "outputs": [],
   "source": [
    "bag_cl_rf_2 = ensemble.BaggingClassifier(rf_classifier, n_estimators=100, max_features=int(np.sqrt(X.shape[1])))\n",
    "cv_scores_bag_2 = cross_validation.cross_val_score(bag_cl_rf_2, X, y, cv=k)"
   ]
  },
  {
   "cell_type": "code",
   "execution_count": 63,
   "metadata": {},
   "outputs": [],
   "source": [
    "cv_scores_bag_mean = [cv_scores_bag_2.mean()]\n",
    "write_answer(cv_scores_bag_mean, 'RandomForest_3.txt')"
   ]
  },
  {
   "cell_type": "code",
   "execution_count": 65,
   "metadata": {},
   "outputs": [],
   "source": [
    "rf_classifier_2 = tree.DecisionTreeClassifier(random_state = 1, max_features=int(np.sqrt(X.shape[1])))\n",
    "bag_cl_rf_3 = ensemble.BaggingClassifier(rf_classifier_2, n_estimators=100)\n",
    "cv_scores_bag_3 = cross_validation.cross_val_score(bag_cl_rf_3, X, y, cv=k)"
   ]
  },
  {
   "cell_type": "code",
   "execution_count": 66,
   "metadata": {},
   "outputs": [],
   "source": [
    "cv_scores_bag_mean = [cv_scores_bag_3.mean()]\n",
    "write_answer(cv_scores_bag_mean, 'RandomForest_4.txt')"
   ]
  },
  {
   "cell_type": "code",
   "execution_count": 67,
   "metadata": {},
   "outputs": [],
   "source": [
    "rf_cl = ensemble.RandomForestClassifier(random_state = 1, max_features=int(np.sqrt(X.shape[1])))\n",
    "cv_scores_bag_4 = cross_validation.cross_val_score(rf_cl, X, y, cv=k)\n",
    "cv_scores_bag_mean = [cv_scores_bag_4.mean()]\n",
    "write_answer(cv_scores_bag_mean, 'RandomForest_5.txt')"
   ]
  },
  {
   "cell_type": "code",
   "execution_count": null,
   "metadata": {},
   "outputs": [],
   "source": [
    "%pylab inline"
   ]
  },
  {
   "cell_type": "code",
   "execution_count": 82,
   "metadata": {},
   "outputs": [
    {
     "data": {
      "text/plain": [
       "[<matplotlib.lines.Line2D at 0x103957f0>]"
      ]
     },
     "execution_count": 82,
     "metadata": {},
     "output_type": "execute_result"
    },
    {
     "data": {
      "image/png": "[encoded data removed]",
      "text/plain": [
       "<Figure size 432x288 with 1 Axes>"
      ]
     },
     "metadata": {},
     "output_type": "display_data"
    }
   ],
   "source": [
    "scores = []\n",
    "space = arange(1, 25, 5)\n",
    "for i in space:\n",
    "    rf_cl = ensemble.RandomForestClassifier(n_estimators = int(i), random_state = 1, max_features=int(np.sqrt(X.shape[1])))\n",
    "    cv_score = cross_validation.cross_val_score(rf_cl, X, y, cv=k)\n",
    "    scores += [cv_score.mean()]\n",
    "pylab.grid(True)\n",
    "pylab.plot(space, scores, 'g-', marker='o')"
   ]
  },
  {
   "cell_type": "code",
   "execution_count": 83,
   "metadata": {},
   "outputs": [
    {
     "data": {
      "text/plain": [
       "[<matplotlib.lines.Line2D at 0xabfd9b0>]"
      ]
     },
     "execution_count": 83,
     "metadata": {},
     "output_type": "execute_result"
    },
    {
     "data": {
      "image/png": "[encoded data removed]",
      "text/plain": [
       "<Figure size 432x288 with 1 Axes>"
      ]
     },
     "metadata": {},
     "output_type": "display_data"
    }
   ],
   "source": [
    "scores = []\n",
    "space = arange(1, 55, 5)\n",
    "for i in space:\n",
    "    rf_cl = ensemble.RandomForestClassifier(random_state = 1, max_features=int(i))\n",
    "    cv_score = cross_validation.cross_val_score(rf_cl, X, y, cv=k)\n",
    "    scores += [cv_score.mean()]\n",
    "pylab.grid(True)\n",
    "pylab.plot(space, scores, 'g-', marker='o')"
   ]
  },
  {
   "cell_type": "code",
   "execution_count": 85,
   "metadata": {},
   "outputs": [
    {
     "data": {
      "text/plain": [
       "[<matplotlib.lines.Line2D at 0xe2f45c0>]"
      ]
     },
     "execution_count": 85,
     "metadata": {},
     "output_type": "execute_result"
    },
    {
     "data": {
      "image/png": "[encoded data removed]",
      "text/plain": [
       "<Figure size 432x288 with 1 Axes>"
      ]
     },
     "metadata": {},
     "output_type": "display_data"
    }
   ],
   "source": [
    "scores = []\n",
    "space = np.arange(1, 20, 1)\n",
    "for i in space:\n",
    "    rf_cl = ensemble.RandomForestClassifier(random_state = 1, max_features=8, max_depth = i)\n",
    "    cv_score = cross_validation.cross_val_score(rf_cl, X, y, cv=k)\n",
    "    scores += [cv_score.mean()]\n",
    "pylab.grid(True)\n",
    "pylab.plot(space, scores, 'g-', marker='o')"
   ]
  },
  {
   "cell_type": "code",
   "execution_count": 86,
   "metadata": {},
   "outputs": [],
   "source": [
    "answers = [2, 3, 4, 7]\n",
    "write_answer(answers, 'RandomForest_6.txt')"
   ]
  },
  {
   "cell_type": "code",
   "execution_count": null,
   "metadata": {},
   "outputs": [],
   "source": []
  }
 ],
 "metadata": {
  "kernelspec": {
   "display_name": "Python 2",
   "language": "python",
   "name": "python2"
  },
  "language_info": {
   "codemirror_mode": {
    "name": "ipython",
    "version": 2
   },
   "file_extension": ".py",
   "mimetype": "text/x-python",
   "name": "python",
   "nbconvert_exporter": "python",
   "pygments_lexer": "ipython2",
   "version": "2.7.15"
  }
 },
 "nbformat": 4,
 "nbformat_minor": 2
}
